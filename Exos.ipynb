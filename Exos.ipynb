{
 "cells": [
  {
   "cell_type": "code",
   "execution_count": 45,
   "metadata": {},
   "outputs": [],
   "source": [
    "import random"
   ]
  },
  {
   "cell_type": "code",
   "execution_count": 28,
   "metadata": {},
   "outputs": [
    {
     "name": "stdout",
     "output_type": "stream",
     "text": [
      "        X \n",
      "      X   X \n",
      "    X       X \n",
      "  X           X \n",
      "X X X X X X X X X \n"
     ]
    }
   ],
   "source": [
    "def triangle(cote):\n",
    "    if cote % 2 == 0:\n",
    "        return False\n",
    "    space = 1 # Ecart entre les 2 'X_' dans chaque ligne qui incrémente de 2 dans la boucle for\n",
    "    moitieSans1 = int(round(cote/2,1)-0.5) # Calcule la moitié de cote moins 1 en type integer\n",
    "    for i in range(moitieSans1):\n",
    "        if i == 0:\n",
    "            print('  '*(moitieSans1-i)+'X ')\n",
    "        else:\n",
    "            print('  '*(moitieSans1-i)+'X '+'  '*space+'X ')\n",
    "            space = space + 2\n",
    "    print('X '*cote)\n",
    "\n",
    "triangle(9)"
   ]
  },
  {
   "cell_type": "code",
   "execution_count": 37,
   "metadata": {},
   "outputs": [
    {
     "name": "stdout",
     "output_type": "stream",
     "text": [
      "X X X X X X X X X X X X X \n",
      "X X X X X X   X X X X X X \n",
      "X X X X X       X X X X X \n",
      "X X X X           X X X X \n",
      "X X X               X X X \n",
      "X X                   X X \n",
      "X                       X \n",
      "X X X X X X X X X X X X X \n",
      "          X \n",
      "        X   X \n",
      "      X       X \n",
      "    X           X \n",
      "  X               X \n",
      "X X X X X X X X X X X \n"
     ]
    }
   ],
   "source": [
    "def triangle_inverse(cote):\n",
    "    if cote % 2 == 0:\n",
    "        return False\n",
    "    space = 1 # Ecart entre les 2 'X_' dans chaque ligne qui incrémente de 2 dans la boucle for\n",
    "    moitieSans1 = int(round((cote+2)/2,1)-0.5) # Calcule la moitié de cote moins 1 en type integer\n",
    "    print('X '*(cote+2))\n",
    "    for i in range(moitieSans1):\n",
    "        if i == 0:\n",
    "            print('X '*(moitieSans1-i)+'  '+'X '*(moitieSans1-i))\n",
    "        else:\n",
    "            print('X '*(moitieSans1-i)+'  '+'  '*space+'  '+'X '*(moitieSans1-i))\n",
    "            space = space + 2\n",
    "    print('X '*(cote+2))\n",
    "\n",
    "triangle_inverse(11)\n",
    "triangle(11)"
   ]
  },
  {
   "cell_type": "code",
   "execution_count": 72,
   "metadata": {},
   "outputs": [
    {
     "name": "stdout",
     "output_type": "stream",
     "text": [
      "        *\n",
      "        ^\n",
      "       /\"\\\n",
      "      /\"O'\\\n",
      "     /''\"'\"\\\n",
      "    /O''O'\"\"\\\n",
      "   /\"'\"'\"\"\"''\\\n",
      "  /O'O\"\"''\"''\"\\\n",
      " /''''O\"OO\"''\"\"\\\n",
      "       |||\n",
      "       |||\n",
      "       |||\n"
     ]
    }
   ],
   "source": [
    "def deco(x):\n",
    "    texte = '' # Compose la chaine de texte finale\n",
    "    for i in range(x):\n",
    "        valeur = round(random.random(),1)\n",
    "        if valeur >= 0.2:\n",
    "            valeur = round(random.random(),1)\n",
    "            if valeur >= 0.5:\n",
    "                texte += '\\''\n",
    "            else:\n",
    "                texte += '\"'\n",
    "        else:\n",
    "            texte += 'O'\n",
    "    return texte\n",
    "        \n",
    "\n",
    "def sapin(taille):\n",
    "    if taille % 2 == 0:\n",
    "        return False\n",
    "    space = 1\n",
    "    moitieSans1 = int(round(taille/2,1)-0.5)\n",
    "    for i in range(moitieSans1):\n",
    "        if i == 0:\n",
    "            print(' '*moitieSans1+'*')\n",
    "            print(' '*moitieSans1+'^')\n",
    "        else:\n",
    "            print(' '*(moitieSans1-i)+'/'+deco(space)+'\\\\')\n",
    "            space += 2\n",
    "    for i in range(3):\n",
    "        print(' '*(moitieSans1-1)+'|||')\n",
    "\n",
    "sapin(17)"
   ]
  }
 ],
 "metadata": {
  "kernelspec": {
   "display_name": "Python 3.13.0 64-bit",
   "language": "python",
   "name": "python3"
  },
  "language_info": {
   "codemirror_mode": {
    "name": "ipython",
    "version": 3
   },
   "file_extension": ".py",
   "mimetype": "text/x-python",
   "name": "python",
   "nbconvert_exporter": "python",
   "pygments_lexer": "ipython3",
   "version": "3.13.0"
  },
  "orig_nbformat": 4,
  "vscode": {
   "interpreter": {
    "hash": "aee8b7b246df8f9039afb4144a1f6fd8d2ca17a180786b69acc140d282b71a49"
   }
  }
 },
 "nbformat": 4,
 "nbformat_minor": 2
}
